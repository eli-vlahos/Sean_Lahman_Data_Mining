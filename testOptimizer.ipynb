{
 "cells": [
  {
   "cell_type": "code",
   "execution_count": 2,
   "metadata": {},
   "outputs": [],
   "source": [
    "import pandas as pd\n",
    "from sklearn.tree import DecisionTreeClassifier\n",
    "import numpy as np\n",
    "from sklearn.utils import shuffle\n",
    "from sklearn.metrics import confusion_matrix, ConfusionMatrixDisplay, accuracy_score\n",
    "from sklearn import tree\n",
    "from sklearn.model_selection import train_test_split\n",
    "import matplotlib.pyplot as plt\n",
    "import graphviz\n",
    "from sklearn.utils import shuffle\n",
    "from dataclasses import dataclass\n",
    "import matplotlib as plt\n",
    "from sklearn.metrics import roc_auc_score\n"
   ]
  },
  {
   "cell_type": "code",
   "execution_count": 3,
   "metadata": {},
   "outputs": [],
   "source": [
    "df = pd.read_csv(\"CSV/A-0.csv\")"
   ]
  },
  {
   "cell_type": "code",
   "execution_count": 4,
   "metadata": {},
   "outputs": [],
   "source": [
    "df['nominated'] = df.apply(lambda row: 1 if row['inducted'] in ['Y', 'N'] else 0, axis=1)\n",
    "df = shuffle(df, random_state=42)\n",
    "df = df.fillna(0)"
   ]
  },
  {
   "cell_type": "code",
   "execution_count": 5,
   "metadata": {},
   "outputs": [],
   "source": [
    "df_balanced = df.drop(df[df['nominated'] == 0][1300:].index)\n"
   ]
  },
  {
   "cell_type": "code",
   "execution_count": 6,
   "metadata": {},
   "outputs": [],
   "source": [
    "trainFeatures = ['B_G', 'B_AB', 'B_R', 'B_H', 'B_HR', 'B_RBI', 'B_SB', 'B_SO',\n",
    "                'PI_W', 'PI_L', 'PI_G', 'PI_CG', 'PI_SV', 'PI_H', \n",
    "\t\t\t        'PI_ER', 'PI_HR', 'PI_BB', 'PI_SO', 'PI_ERA', 'PI_R',\n",
    "\t\t        'FI_G', 'FI_GS', 'FI_InnOuts', 'FI_A', 'FI_E', 'FI_DP',\n",
    "                'ASF_NUM_YEARS', 'MAX_SAL', 'MAX_SAL_YEAR']\n",
    "df_X_bal = df_balanced[trainFeatures]\n",
    "df_Y_bal = df_balanced['nominated']\n",
    "\n",
    "trainFeatures = ['B_G', 'B_AB', 'B_R', 'B_H', 'B_HR', 'B_RBI', 'B_SB', 'B_SO',\n",
    "                'PI_W', 'PI_L', 'PI_G', 'PI_CG', 'PI_SV', 'PI_H', \n",
    "\t\t\t        'PI_ER', 'PI_HR', 'PI_BB', 'PI_SO', 'PI_ERA', 'PI_R',\n",
    "\t\t        'FI_G', 'FI_GS', 'FI_InnOuts', 'FI_A', 'FI_E', 'FI_DP',\n",
    "                'ASF_NUM_YEARS', 'MAX_SAL', 'MAX_SAL_YEAR']\n",
    "df_X = df[trainFeatures]\n",
    "df_Y = df['nominated']"
   ]
  },
  {
   "cell_type": "code",
   "execution_count": 7,
   "metadata": {},
   "outputs": [],
   "source": [
    "X_train_bal, X_test_bal, Y_train_bal, Y_test_bal = train_test_split(df_X_bal, df_Y_bal, test_size=0.2, random_state=42)\n",
    "X_train, X_test, Y_train, Y_test = train_test_split(df_X, df_Y, test_size=0.2, random_state=42)"
   ]
  },
  {
   "cell_type": "code",
   "execution_count": 8,
   "metadata": {},
   "outputs": [
    {
     "name": "stdout",
     "output_type": "stream",
     "text": [
      "0    1034\n",
      "1    1029\n",
      "Name: nominated, dtype: int64\n",
      "0    15279\n",
      "1     1017\n",
      "Name: nominated, dtype: int64\n"
     ]
    }
   ],
   "source": [
    "print(Y_train_bal.value_counts())\n",
    "print(Y_train.value_counts())"
   ]
  },
  {
   "cell_type": "code",
   "execution_count": 9,
   "metadata": {},
   "outputs": [
    {
     "name": "stdout",
     "output_type": "stream",
     "text": [
      " Unbalanced ROC_AUC score: 0.8074942127311904\n",
      "Unbalanced Accuracy: 0.9523809523809523\n",
      "[[3712  100]\n",
      " [  94  168]]\n"
     ]
    }
   ],
   "source": [
    "# UNBALANCED\n",
    "clf_unbal = DecisionTreeClassifier()\n",
    "clf_unbal = clf_unbal.fit(X_train, Y_train)\n",
    "Y_predicted_unbal = clf_unbal.predict(X_test)\n",
    "print(f\" Unbalanced ROC_AUC score: {roc_auc_score(Y_test, Y_predicted_unbal)}\")\n",
    "print(f\"Unbalanced Accuracy: {accuracy_score(Y_test, Y_predicted_unbal)}\")\n",
    "print(confusion_matrix(Y_test, Y_predicted_unbal))"
   ]
  },
  {
   "cell_type": "code",
   "execution_count": 10,
   "metadata": {},
   "outputs": [
    {
     "name": "stdout",
     "output_type": "stream",
     "text": [
      " Unbalanced ROC_AUC score: 0.8015917992999206\n",
      "Unbalanced Accuracy: 0.9523809523809523\n",
      "[[3712  100]\n",
      " [  94  168]]\n"
     ]
    }
   ],
   "source": [
    "# Using class_weight = \"balanced\"\n",
    "clf_class_weight_balanced = DecisionTreeClassifier(class_weight=\"balanced\")\n",
    "clf_class_weight_balanced = clf_class_weight_balanced.fit(X_train, Y_train)\n",
    "Y_predicted_class_weight_balanced = clf_class_weight_balanced.predict(X_test)\n",
    "print(f\" Unbalanced ROC_AUC score: {roc_auc_score(Y_test, Y_predicted_class_weight_balanced)}\")\n",
    "print(f\"Unbalanced Accuracy: {accuracy_score(Y_test, Y_predicted_unbal)}\")\n",
    "print(confusion_matrix(Y_test, Y_predicted_unbal))"
   ]
  },
  {
   "cell_type": "code",
   "execution_count": 11,
   "metadata": {},
   "outputs": [],
   "source": [
    "clf = DecisionTreeClassifier()\n",
    "clf = clf.fit(X_train, Y_train)\n",
    "Y_predicted = clf.predict(X_test)"
   ]
  },
  {
   "cell_type": "code",
   "execution_count": 12,
   "metadata": {},
   "outputs": [
    {
     "data": {
      "text/plain": [
       "0.8054546510417084"
      ]
     },
     "execution_count": 12,
     "metadata": {},
     "output_type": "execute_result"
    }
   ],
   "source": [
    "roc_auc_score(Y_test, Y_predicted)"
   ]
  },
  {
   "cell_type": "code",
   "execution_count": 13,
   "metadata": {},
   "outputs": [
    {
     "data": {
      "text/plain": [
       "0.9518900343642611"
      ]
     },
     "execution_count": 13,
     "metadata": {},
     "output_type": "execute_result"
    }
   ],
   "source": [
    "Y_predicted = clf.predict(X_test)\n",
    "accuracy_score(Y_test, Y_predicted)"
   ]
  },
  {
   "cell_type": "code",
   "execution_count": 14,
   "metadata": {},
   "outputs": [
    {
     "data": {
      "text/plain": [
       "0    0.937592\n",
       "1    0.062408\n",
       "Name: nominated, dtype: float64"
      ]
     },
     "execution_count": 14,
     "metadata": {},
     "output_type": "execute_result"
    }
   ],
   "source": [
    "Y_train.value_counts(normalize=True)"
   ]
  },
  {
   "cell_type": "code",
   "execution_count": null,
   "metadata": {},
   "outputs": [],
   "source": []
  }
 ],
 "metadata": {
  "kernelspec": {
   "display_name": "Python 3.8.0 64-bit",
   "language": "python",
   "name": "python3"
  },
  "language_info": {
   "codemirror_mode": {
    "name": "ipython",
    "version": 3
   },
   "file_extension": ".py",
   "mimetype": "text/x-python",
   "name": "python",
   "nbconvert_exporter": "python",
   "pygments_lexer": "ipython3",
   "version": "3.8.0"
  },
  "orig_nbformat": 4,
  "vscode": {
   "interpreter": {
    "hash": "0adcc2737ebf6a4a119f135174df96668767fca1ef1112612db5ecadf2b6d608"
   }
  }
 },
 "nbformat": 4,
 "nbformat_minor": 2
}
